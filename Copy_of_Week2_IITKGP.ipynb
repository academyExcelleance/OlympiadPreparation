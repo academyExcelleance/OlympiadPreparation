{
  "nbformat": 4,
  "nbformat_minor": 0,
  "metadata": {
    "colab": {
      "provenance": [],
      "authorship_tag": "ABX9TyOrdq/tJaBrXDA8PMZUyx/4",
      "include_colab_link": true
    },
    "kernelspec": {
      "name": "python3",
      "display_name": "Python 3"
    },
    "language_info": {
      "name": "python"
    }
  },
  "cells": [
    {
      "cell_type": "markdown",
      "metadata": {
        "id": "view-in-github",
        "colab_type": "text"
      },
      "source": [
        "<a href=\"https://colab.research.google.com/github/academyExcelleance/OlympiadPreparation/blob/main/Copy_of_Week2_IITKGP.ipynb\" target=\"_parent\"><img src=\"https://colab.research.google.com/assets/colab-badge.svg\" alt=\"Open In Colab\"/></a>"
      ]
    },
    {
      "cell_type": "code",
      "execution_count": null,
      "metadata": {
        "colab": {
          "base_uri": "https://localhost:8080/"
        },
        "id": "nA2mH08ROmnF",
        "outputId": "c0665e65-a2ef-4fcf-aba7-7d21e398c956"
      },
      "outputs": [
        {
          "output_type": "stream",
          "name": "stdout",
          "text": [
            "How r you!!\n"
          ]
        }
      ],
      "source": [
        "print(\"How r you!!\")"
      ]
    },
    {
      "cell_type": "code",
      "source": [
        "import numpy as np\n",
        "print(f'version of np: {np.__version__}')"
      ],
      "metadata": {
        "colab": {
          "base_uri": "https://localhost:8080/"
        },
        "id": "UFmpRV6sO49P",
        "outputId": "07942730-cd49-42ef-e4b5-fd4c8d733ec3"
      },
      "execution_count": null,
      "outputs": [
        {
          "output_type": "stream",
          "name": "stdout",
          "text": [
            "version of np: 1.25.2\n"
          ]
        }
      ]
    },
    {
      "cell_type": "code",
      "source": [
        "import sys\n",
        "print(f'Python version is: {sys.version}')"
      ],
      "metadata": {
        "colab": {
          "base_uri": "https://localhost:8080/"
        },
        "id": "unSzaB5DPKqv",
        "outputId": "0081d730-18d9-4e10-c963-91add96df8b0"
      },
      "execution_count": null,
      "outputs": [
        {
          "output_type": "stream",
          "name": "stdout",
          "text": [
            "Python version is: 3.10.12 (main, Mar 22 2024, 16:50:05) [GCC 11.4.0]\n"
          ]
        }
      ]
    },
    {
      "cell_type": "code",
      "source": [
        "name = input('what is your name?')\n",
        "college = input (\"what is your college\")\n",
        "print(f\"Welcme {name} in {college}\")"
      ],
      "metadata": {
        "colab": {
          "base_uri": "https://localhost:8080/"
        },
        "id": "XnB_-luZRpkV",
        "outputId": "f2e422bc-de3d-4f1d-902f-2112a62efa05"
      },
      "execution_count": null,
      "outputs": [
        {
          "output_type": "stream",
          "name": "stdout",
          "text": [
            "what is your name?Sujit\n",
            "what is your collegeCEMK\n",
            "Welcme Sujit in CEMK\n"
          ]
        }
      ]
    },
    {
      "cell_type": "code",
      "source": [
        "first_product_price = float(input (\"what is the price of first product ?\"))\n",
        "second_product_price = float(input (\"what is the price of second product ?\"))\n",
        "\n",
        "total_price = first_product_price + second_product_price\n",
        "print(f'Total price : {total_price}')"
      ],
      "metadata": {
        "colab": {
          "base_uri": "https://localhost:8080/"
        },
        "id": "ukgnWn3Ef6hj",
        "outputId": "517cdfe2-7048-4d97-a5a1-086cd42a537d"
      },
      "execution_count": null,
      "outputs": [
        {
          "output_type": "stream",
          "name": "stdout",
          "text": [
            "what is the price of first product ?12\n",
            "what is the price of second product ?32\n",
            "Total price : 44.0\n"
          ]
        }
      ]
    }
  ]
}